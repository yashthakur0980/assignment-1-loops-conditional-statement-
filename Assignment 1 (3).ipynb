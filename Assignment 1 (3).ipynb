{
 "cells": [
  {
   "cell_type": "code",
   "execution_count": 1,
   "id": "c049dcf3-675b-48fc-a717-0b39c1adca81",
   "metadata": {},
   "outputs": [],
   "source": [
    "## Q1= for loop is used When the number of iterations is already known and while loop is used When the number of iterations is already unknown. \n"
   ]
  },
  {
   "cell_type": "code",
   "execution_count": 2,
   "id": "3059365b-2e17-4c00-9d2c-f786b53502d5",
   "metadata": {},
   "outputs": [],
   "source": [
    "## for loop\n"
   ]
  },
  {
   "cell_type": "code",
   "execution_count": 3,
   "id": "89a4a7ec-d47c-46c5-a196-974fc0b9429a",
   "metadata": {},
   "outputs": [
    {
     "name": "stdout",
     "output_type": "stream",
     "text": [
      "1\n",
      "2\n",
      "3\n",
      "4\n",
      "5\n"
     ]
    }
   ],
   "source": [
    "l = [1,2,3,4,5]\n",
    "for i in l :\n",
    "    print(i)"
   ]
  },
  {
   "cell_type": "code",
   "execution_count": 4,
   "id": "ddb4c802-8e20-4365-9606-a3abcecc7944",
   "metadata": {},
   "outputs": [],
   "source": [
    "## while loop "
   ]
  },
  {
   "cell_type": "code",
   "execution_count": 5,
   "id": "c80eb0af-5998-4317-af24-044713462856",
   "metadata": {},
   "outputs": [
    {
     "name": "stdout",
     "output_type": "stream",
     "text": [
      "1\n",
      "2\n",
      "3\n",
      "4\n",
      "5\n"
     ]
    }
   ],
   "source": [
    "i = 1\n",
    "while i <=5:\n",
    "    print(i)\n",
    "    i = i +1 "
   ]
  },
  {
   "cell_type": "code",
   "execution_count": 6,
   "id": "5e079869-6bd0-4d94-a57c-a69b32820df1",
   "metadata": {},
   "outputs": [],
   "source": [
    "## Q2 ="
   ]
  },
  {
   "cell_type": "code",
   "execution_count": 3,
   "id": "92330b42-052c-4935-8fcd-5bc39476135b",
   "metadata": {},
   "outputs": [
    {
     "name": "stdout",
     "output_type": "stream",
     "text": [
      "55\n"
     ]
    }
   ],
   "source": [
    "## using for loop\n",
    "sum = 0\n",
    "for i in range(1,11):\n",
    "    sum = sum +i\n",
    "print(sum)   "
   ]
  },
  {
   "cell_type": "code",
   "execution_count": 4,
   "id": "dc60da59-e06e-4336-a965-b1ad0d51ac32",
   "metadata": {},
   "outputs": [
    {
     "name": "stdout",
     "output_type": "stream",
     "text": [
      "55\n"
     ]
    }
   ],
   "source": [
    "## using while loop \n",
    "i = 1\n",
    "sum = 0 \n",
    "while i <=10:\n",
    "    sum = sum +i\n",
    "    i = i +1\n",
    "print(sum)      "
   ]
  },
  {
   "cell_type": "code",
   "execution_count": 6,
   "id": "bb189c79-77f3-492e-9cbe-c1465e8a1f7e",
   "metadata": {},
   "outputs": [],
   "source": [
    "## Q3 = "
   ]
  },
  {
   "cell_type": "code",
   "execution_count": 9,
   "id": "e07c186d-4bcf-412f-957e-beed8e9c7de8",
   "metadata": {},
   "outputs": [
    {
     "name": "stdin",
     "output_type": "stream",
     "text": [
      "unit 310\n"
     ]
    },
    {
     "name": "stdout",
     "output_type": "stream",
     "text": [
      "bill 2250.0\n"
     ]
    }
   ],
   "source": [
    "unit = int(input('unit'))\n",
    "if unit <=100:\n",
    "    print('bill',unit*4.5)\n",
    "elif unit >100 and unit <=200:\n",
    "    a = (unit - 100)*6 + 100 *4.5\n",
    "    print('bill',a)\n",
    "elif unit > 200 and unit <=300:\n",
    "    b = (unit - 200)*10 + 100 *6 +100 *4.5\n",
    "    print('bill',b)\n",
    "    \n",
    "elif unit >300:\n",
    "    c = (unit - 300)*20 + 100 *10 +100 *6 +100 *4.5\n",
    "    print('bill',c)\n",
    "else:\n",
    "    print('nv')\n",
    "            "
   ]
  },
  {
   "cell_type": "code",
   "execution_count": 10,
   "id": "6e90bfe7-ef87-45de-9303-9ccde0316e5a",
   "metadata": {},
   "outputs": [],
   "source": [
    "## Q4 ="
   ]
  },
  {
   "cell_type": "code",
   "execution_count": 11,
   "id": "4f7e7a7f-4426-44b8-8d0e-825f6c800a82",
   "metadata": {},
   "outputs": [
    {
     "data": {
      "text/plain": [
       "[4,\n",
       " 5,\n",
       " 8,\n",
       " 10,\n",
       " 12,\n",
       " 15,\n",
       " 16,\n",
       " 20,\n",
       " 24,\n",
       " 25,\n",
       " 28,\n",
       " 30,\n",
       " 32,\n",
       " 35,\n",
       " 36,\n",
       " 40,\n",
       " 44,\n",
       " 45,\n",
       " 48,\n",
       " 50,\n",
       " 52,\n",
       " 55,\n",
       " 56,\n",
       " 60,\n",
       " 64,\n",
       " 65,\n",
       " 68,\n",
       " 70,\n",
       " 72,\n",
       " 75,\n",
       " 76,\n",
       " 80,\n",
       " 84,\n",
       " 85,\n",
       " 88,\n",
       " 90,\n",
       " 92,\n",
       " 95,\n",
       " 96,\n",
       " 100]"
      ]
     },
     "execution_count": 11,
     "metadata": {},
     "output_type": "execute_result"
    }
   ],
   "source": [
    "## using for loop \n",
    "l1 = []\n",
    "for i in range (1,101):\n",
    "    cube = i*i*i\n",
    "    if i %4 == 0 or i %5 ==0:\n",
    "        l1.append(i)\n",
    "l1       "
   ]
  },
  {
   "cell_type": "code",
   "execution_count": 12,
   "id": "f5b721d9-04fe-4279-8d86-93cd580bf4d2",
   "metadata": {},
   "outputs": [
    {
     "data": {
      "text/plain": [
       "[4,\n",
       " 5,\n",
       " 8,\n",
       " 10,\n",
       " 12,\n",
       " 15,\n",
       " 16,\n",
       " 20,\n",
       " 24,\n",
       " 25,\n",
       " 28,\n",
       " 30,\n",
       " 32,\n",
       " 35,\n",
       " 36,\n",
       " 40,\n",
       " 44,\n",
       " 45,\n",
       " 48,\n",
       " 50,\n",
       " 52,\n",
       " 55,\n",
       " 56,\n",
       " 60,\n",
       " 64,\n",
       " 65,\n",
       " 68,\n",
       " 70,\n",
       " 72,\n",
       " 75,\n",
       " 76,\n",
       " 80,\n",
       " 84,\n",
       " 85,\n",
       " 88,\n",
       " 90,\n",
       " 92,\n",
       " 95,\n",
       " 96,\n",
       " 100]"
      ]
     },
     "execution_count": 12,
     "metadata": {},
     "output_type": "execute_result"
    }
   ],
   "source": [
    "i = 1\n",
    "l1 = []\n",
    "while i <=100:\n",
    "    cube = i*i*i\n",
    "    if i %4 == 0 or i %5 ==0:\n",
    "        l1.append(i)\n",
    "    i = i +1    \n",
    "l1       "
   ]
  },
  {
   "cell_type": "code",
   "execution_count": 13,
   "id": "257ff2f8-f1e2-4ce1-9c96-26730fc2ebb8",
   "metadata": {},
   "outputs": [
    {
     "data": {
      "text/plain": [
       "12"
      ]
     },
     "execution_count": 13,
     "metadata": {},
     "output_type": "execute_result"
    }
   ],
   "source": [
    "s = \"I want to become a data scientist\"\n",
    "r = s.lower()\n",
    "count = 0 \n",
    "for i in r :\n",
    "    if i in ('a','e','i','o','u'):\n",
    "        count = count +1\n",
    "count        \n",
    "        "
   ]
  },
  {
   "cell_type": "code",
   "execution_count": null,
   "id": "65d9ce27-9ef5-4f47-af11-29317932b77b",
   "metadata": {},
   "outputs": [],
   "source": []
  }
 ],
 "metadata": {
  "kernelspec": {
   "display_name": "Python 3 (ipykernel)",
   "language": "python",
   "name": "python3"
  },
  "language_info": {
   "codemirror_mode": {
    "name": "ipython",
    "version": 3
   },
   "file_extension": ".py",
   "mimetype": "text/x-python",
   "name": "python",
   "nbconvert_exporter": "python",
   "pygments_lexer": "ipython3",
   "version": "3.10.6"
  }
 },
 "nbformat": 4,
 "nbformat_minor": 5
}
